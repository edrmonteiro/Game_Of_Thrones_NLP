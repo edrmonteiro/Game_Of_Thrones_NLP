{
 "cells": [
  {
   "cell_type": "markdown",
   "id": "67d80548",
   "metadata": {},
   "source": [
    "# Import Libraries"
   ]
  },
  {
   "cell_type": "code",
   "execution_count": 18,
   "id": "6edf091f",
   "metadata": {},
   "outputs": [],
   "source": [
    "import numpy as np\n",
    "import pandas as pd\n",
    "import matplotlib.pyplot as plt\n",
    "import seaborn as sns\n",
    "\n",
    "%matplotlib inline\n",
    "\n",
    "import re\n",
    "from nltk.corpus import stopwords\n",
    "import string\n",
    "\n",
    "import keras\n",
    "import tensorflow as tf\n",
    "from keras.preprocessing.text import Tokenizer\n",
    "from keras.utils.vis_utils import plot_model\n",
    "from tensorflow.keras.utils import to_categorical\n",
    "from keras_preprocessing.sequence import pad_sequences\n",
    "from keras.utils.vis_utils import plot_model\n",
    "from keras.models import Sequential, load_model\n",
    "from keras.layers import LSTM\n",
    "from keras.layers import Dense\n",
    "from keras.layers import Flatten\n",
    "from keras.layers import Embedding\n",
    "from keras.layers.convolutional import Conv1D\n",
    "from keras.layers.convolutional import MaxPooling1D\n",
    "from tensorflow.keras.optimizers import Adam\n",
    "\n",
    "import pickle"
   ]
  },
  {
   "cell_type": "markdown",
   "id": "a0202659",
   "metadata": {},
   "source": [
    "# Load Data"
   ]
  },
  {
   "cell_type": "code",
   "execution_count": 19,
   "id": "4f11d4a8",
   "metadata": {},
   "outputs": [],
   "source": [
    "def load_data(filename):\n",
    "    # open the file as read only\n",
    "    file = open(filename, 'r')\n",
    "    # read all text\n",
    "    text = file.read()\n",
    "    # close the file\n",
    "    file.close()\n",
    "    return text\n",
    "data = load_data(\"../data/got1.txt\")"
   ]
  },
  {
   "cell_type": "code",
   "execution_count": 20,
   "id": "e2d18a70",
   "metadata": {},
   "outputs": [
    {
     "data": {
      "text/plain": [
       "'A Game Of Thrones \\nBook One of A Song of Ice and Fire \\nBy George R. R. Martin \\nPROLOGUE \\n\"We should start back,\" Gared urged as the woods began to grow dark around them. \"The wildlings are \\ndead.\" \\n\"Do the dead frighten you?\" Ser Waymar Royce asked with just the hint of a smile. \\nGared did not rise to the bait. He was an old man, past fifty, and he had seen the lordlings come and go. \\n\"Dead is dead,\" he said. \"We have no business with the dead.\" \\n\"Are they dead?\" Royce asked softly. \"What proof have we?\" \\n\"Will saw them,\" Gared said. \"If he says they are dead, that\\'s proof enough for me.\" \\nWill had known they would drag him into the quarrel sooner or later. He wished it had been later rather \\nthan sooner. \"My mother told me that dead men sing no songs,\" he put in. \\n\"My wet nurse said the same thing, Will,\" Royce replied. \"Never believe anything you hear at a woman\\'s \\ntit. There are things to be learned even from the dead.\" His voice echoed, too loud in the twilit forest. \\nPage 1\\n\\n\"We h'"
      ]
     },
     "execution_count": 20,
     "metadata": {},
     "output_type": "execute_result"
    }
   ],
   "source": [
    "data[:1000]"
   ]
  },
  {
   "cell_type": "markdown",
   "id": "07ea38b9",
   "metadata": {},
   "source": [
    "# Prepare Corpus"
   ]
  },
  {
   "cell_type": "code",
   "execution_count": 21,
   "id": "b8d7c7b8",
   "metadata": {},
   "outputs": [],
   "source": [
    "def clean_text(text):\n",
    "    sample = text\n",
    "    sample = re.sub('[%s]' % re.escape(string.punctuation), '', sample)\n",
    "    sample = [word for word in sample.split() if word.isalpha()]\n",
    "    sample = [word.lower() for word in sample]\n",
    "    sample = \" \".join(sample)\n",
    "    return sample"
   ]
  },
  {
   "cell_type": "code",
   "execution_count": 22,
   "id": "fa8fc62c",
   "metadata": {},
   "outputs": [],
   "source": [
    "cleaned_data = clean_text(data)"
   ]
  },
  {
   "cell_type": "code",
   "execution_count": 23,
   "id": "2815576a",
   "metadata": {},
   "outputs": [
    {
     "data": {
      "text/plain": [
       "'a game of thrones book one of a song of ice and fire by george r r martin prologue we should start b'"
      ]
     },
     "execution_count": 23,
     "metadata": {},
     "output_type": "execute_result"
    }
   ],
   "source": [
    "cleaned_data[:100]"
   ]
  },
  {
   "cell_type": "code",
   "execution_count": 24,
   "id": "c99f2127",
   "metadata": {},
   "outputs": [
    {
     "data": {
      "text/plain": [
       "<BarContainer object of 2 artists>"
      ]
     },
     "execution_count": 24,
     "metadata": {},
     "output_type": "execute_result"
    },
    {
     "data": {
      "image/png": "[encoded data removed]",
      "text/plain": [
       "<Figure size 640x480 with 1 Axes>"
      ]
     },
     "metadata": {},
     "output_type": "display_data"
    }
   ],
   "source": [
    "plt.bar(x = [\"Total words\", \"Unique words\"], \n",
    "        height=[len(cleaned_data.split()), len(set(cleaned_data.split()))], \n",
    "        color=sns.color_palette('pastel'))"
   ]
  },
  {
   "cell_type": "code",
   "execution_count": 25,
   "id": "9fa320a4",
   "metadata": {},
   "outputs": [
    {
     "name": "stdout",
     "output_type": "stream",
     "text": [
      "Total Tokens: 292883\n",
      "Unique Tokens: 11923\n"
     ]
    }
   ],
   "source": [
    "print('Total Tokens: %d' % len(cleaned_data.split()))\n",
    "print('Unique Tokens: %d' % len(set(cleaned_data.split())))"
   ]
  },
  {
   "cell_type": "code",
   "execution_count": 26,
   "id": "f212d7ef",
   "metadata": {},
   "outputs": [],
   "source": [
    "sequences_doc = []\n",
    "seq_len = 50\n",
    "l = seq_len + 1\n",
    "tokens = [w for w in cleaned_data.split()]\n",
    "\n",
    "for i in range(l, len(tokens)):\n",
    "    \n",
    "    seq = tokens[i-l:i]\n",
    "\n",
    "    line = ' '.join(seq)\n",
    "    sequences_doc.append(line)"
   ]
  },
  {
   "cell_type": "code",
   "execution_count": 27,
   "id": "6bd1e76b",
   "metadata": {},
   "outputs": [
    {
     "data": {
      "text/plain": [
       "['a game of thrones book one of a song of ice and fire by george r r martin prologue we should start back gared urged as the woods began to grow dark around them the wildlings are dead do the dead frighten you ser waymar royce asked with just the hint',\n",
       " 'game of thrones book one of a song of ice and fire by george r r martin prologue we should start back gared urged as the woods began to grow dark around them the wildlings are dead do the dead frighten you ser waymar royce asked with just the hint of',\n",
       " 'of thrones book one of a song of ice and fire by george r r martin prologue we should start back gared urged as the woods began to grow dark around them the wildlings are dead do the dead frighten you ser waymar royce asked with just the hint of a',\n",
       " 'thrones book one of a song of ice and fire by george r r martin prologue we should start back gared urged as the woods began to grow dark around them the wildlings are dead do the dead frighten you ser waymar royce asked with just the hint of a smile',\n",
       " 'book one of a song of ice and fire by george r r martin prologue we should start back gared urged as the woods began to grow dark around them the wildlings are dead do the dead frighten you ser waymar royce asked with just the hint of a smile gared',\n",
       " 'one of a song of ice and fire by george r r martin prologue we should start back gared urged as the woods began to grow dark around them the wildlings are dead do the dead frighten you ser waymar royce asked with just the hint of a smile gared did',\n",
       " 'of a song of ice and fire by george r r martin prologue we should start back gared urged as the woods began to grow dark around them the wildlings are dead do the dead frighten you ser waymar royce asked with just the hint of a smile gared did not',\n",
       " 'a song of ice and fire by george r r martin prologue we should start back gared urged as the woods began to grow dark around them the wildlings are dead do the dead frighten you ser waymar royce asked with just the hint of a smile gared did not rise',\n",
       " 'song of ice and fire by george r r martin prologue we should start back gared urged as the woods began to grow dark around them the wildlings are dead do the dead frighten you ser waymar royce asked with just the hint of a smile gared did not rise to',\n",
       " 'of ice and fire by george r r martin prologue we should start back gared urged as the woods began to grow dark around them the wildlings are dead do the dead frighten you ser waymar royce asked with just the hint of a smile gared did not rise to the']"
      ]
     },
     "execution_count": 27,
     "metadata": {},
     "output_type": "execute_result"
    }
   ],
   "source": [
    "sequences_doc[:10]"
   ]
  },
  {
   "cell_type": "code",
   "execution_count": 28,
   "id": "f530012e",
   "metadata": {},
   "outputs": [],
   "source": [
    "tokenizer = Tokenizer()\n",
    "tokenizer.fit_on_texts(sequences_doc)\n",
    "sequences = tokenizer.texts_to_sequences(sequences_doc)\n",
    "vocab_size = len(tokenizer.word_index) + 1"
   ]
  },
  {
   "cell_type": "code",
   "execution_count": 29,
   "id": "c57b082b",
   "metadata": {},
   "outputs": [],
   "source": [
    "sequences = np.array(sequences)\n",
    "X, y = sequences[:,:-1], sequences[:,-1]\n",
    "y = to_categorical(y, num_classes=vocab_size)\n",
    "seq_length = X.shape[1]"
   ]
  },
  {
   "cell_type": "markdown",
   "id": "191057f0",
   "metadata": {},
   "source": [
    "# Prepare Model"
   ]
  },
  {
   "cell_type": "code",
   "execution_count": 30,
   "id": "139c8455",
   "metadata": {},
   "outputs": [],
   "source": [
    "# def define_model(vocab_size, seq_length):\n",
    "#     model = Sequential()\n",
    "#     model.add(Embedding(vocab_size, 50, input_length=seq_length))\n",
    "#     model.add(LSTM(100, return_sequences=True))\n",
    "#     model.add(LSTM(100))\n",
    "#     model.add(Dense(100, activation='relu'))\n",
    "#     model.add(Dense(vocab_size, activation='softmax'))\n",
    "#     # compile network\n",
    "#     model.compile(loss='categorical_crossentropy', optimizer='adam', metrics=['accuracy'])\n",
    "#     # summarize defined model\n",
    "#     model.summary()\n",
    "#     return model\n",
    "\n",
    "def define_model(vocab_size, seq_length):\n",
    "    model = Sequential()\n",
    "    model.add(Embedding(vocab_size, 50, input_length=seq_length))\n",
    "    model.add(LSTM(100, return_sequences=True))\n",
    "    model.add(LSTM(100))\n",
    "    model.add(Dense(100, activation='relu'))\n",
    "    model.add(Dense(vocab_size, activation='softmax'))\n",
    "    # compile network\n",
    "    model.compile(loss='sparse_categorical_crossentropy', optimizer='adam', metrics=['accuracy'])\n",
    "    # summarize defined model\n",
    "    model.summary()\n",
    "    return model\n",
    "\n",
    "# other code remains the same until...\n",
    "sequences = np.array(sequences)\n",
    "X, y = sequences[:,:-1], sequences[:,-1]\n",
    "# y = to_categorical(y, num_classes=vocab_size)  # no longer necessary\n",
    "seq_length = X.shape[1]"
   ]
  },
  {
   "cell_type": "code",
   "execution_count": 31,
   "id": "c7c76049",
   "metadata": {},
   "outputs": [
    {
     "name": "stdout",
     "output_type": "stream",
     "text": [
      "Model: \"sequential_2\"\n",
      "_________________________________________________________________\n",
      " Layer (type)                Output Shape              Param #   \n",
      "=================================================================\n",
      " embedding_2 (Embedding)     (None, 50, 50)            596200    \n",
      "                                                                 \n",
      " lstm_4 (LSTM)               (None, 50, 100)           60400     \n",
      "                                                                 \n",
      " lstm_5 (LSTM)               (None, 100)               80400     \n",
      "                                                                 \n",
      " dense_4 (Dense)             (None, 100)               10100     \n",
      "                                                                 \n",
      " dense_5 (Dense)             (None, 11924)             1204324   \n",
      "                                                                 \n",
      "=================================================================\n",
      "Total params: 1,951,424\n",
      "Trainable params: 1,951,424\n",
      "Non-trainable params: 0\n",
      "_________________________________________________________________\n"
     ]
    }
   ],
   "source": [
    "model = define_model(vocab_size, seq_length)"
   ]
  },
  {
   "cell_type": "code",
   "execution_count": 32,
   "id": "908ccd6a",
   "metadata": {},
   "outputs": [
    {
     "name": "stdout",
     "output_type": "stream",
     "text": [
      "Epoch 1/10\n",
      "2288/2288 [==============================] - 476s 206ms/step - loss: 6.4959 - accuracy: 0.0682\n",
      "Epoch 2/10\n",
      "2288/2288 [==============================] - 473s 207ms/step - loss: 5.9928 - accuracy: 0.0895\n",
      "Epoch 3/10\n",
      "2288/2288 [==============================] - 491s 214ms/step - loss: 5.7013 - accuracy: 0.1102\n",
      "Epoch 4/10\n",
      "2288/2288 [==============================] - 470s 205ms/step - loss: 5.5031 - accuracy: 0.1204\n",
      "Epoch 5/10\n",
      "2288/2288 [==============================] - 495s 216ms/step - loss: 5.3559 - accuracy: 0.1269\n",
      "Epoch 6/10\n",
      "2288/2288 [==============================] - 506s 221ms/step - loss: 5.2375 - accuracy: 0.1317\n",
      "Epoch 7/10\n",
      "2288/2288 [==============================] - 508s 222ms/step - loss: 5.1364 - accuracy: 0.1360\n",
      "Epoch 8/10\n",
      "2288/2288 [==============================] - 523s 229ms/step - loss: 5.0506 - accuracy: 0.1396\n",
      "Epoch 9/10\n",
      "2288/2288 [==============================] - 463s 202ms/step - loss: 4.9739 - accuracy: 0.1431\n",
      "Epoch 10/10\n",
      "2288/2288 [==============================] - 417s 182ms/step - loss: 4.9056 - accuracy: 0.1457\n"
     ]
    },
    {
     "data": {
      "text/plain": [
       "<keras.callbacks.History at 0x1e5b6bcb190>"
      ]
     },
     "execution_count": 32,
     "metadata": {},
     "output_type": "execute_result"
    }
   ],
   "source": [
    "model.fit(X, np.expand_dims(y, -1), batch_size=128, epochs=10)  # y needs to be the right shape for sparse_categorical_crossentropy"
   ]
  },
  {
   "cell_type": "code",
   "execution_count": 33,
   "id": "9dd20a95",
   "metadata": {},
   "outputs": [],
   "source": [
    "# model = define_model(vocab_size, seq_length)"
   ]
  },
  {
   "cell_type": "code",
   "execution_count": 34,
   "id": "c2b5d565",
   "metadata": {},
   "outputs": [],
   "source": [
    "# model.fit(X, y, batch_size=128, epochs=10)"
   ]
  },
  {
   "cell_type": "code",
   "execution_count": 43,
   "id": "53d6d90f",
   "metadata": {},
   "outputs": [],
   "source": [
    "model.save('../data/text_gen_model.h5')\n",
    "# save the tokenizer\n",
    "pickle.dump(tokenizer, open('../data/tokenizer_text_gen.pkl', 'wb'))"
   ]
  },
  {
   "cell_type": "code",
   "execution_count": 36,
   "id": "e6f71dea",
   "metadata": {},
   "outputs": [],
   "source": [
    "# load the model\n",
    "model1 = load_model('text_gen_model.h5')"
   ]
  },
  {
   "cell_type": "markdown",
   "id": "0f8d3015",
   "metadata": {},
   "source": [
    "# Generate Text Sequence"
   ]
  },
  {
   "cell_type": "code",
   "execution_count": 37,
   "id": "5793ce73",
   "metadata": {},
   "outputs": [],
   "source": [
    "def generate_seq(model, tokenizer, seq_length, seed_text, n_words):\n",
    "    result = list()\n",
    "    in_text = seed_text\n",
    "    # generate a fixed number of words\n",
    "    for _ in range(n_words):\n",
    "    # encode the text as integer\n",
    "        encoded = tokenizer.texts_to_sequences([in_text])[0]\n",
    "        # truncate sequences to a fixed length\n",
    "        encoded = pad_sequences([encoded], maxlen=seq_length, truncating='pre')\n",
    "        # predict probabilities for each word\n",
    "        yhat = model.predict(encoded, verbose=0)\n",
    "        yhat = np.argmax(yhat,axis=1)\n",
    "        print(yhat)\n",
    "        # map predicted word index to word\n",
    "        out_word = ''\n",
    "        for word, index in tokenizer.word_index.items():\n",
    "            if index == yhat:\n",
    "                out_word = word\n",
    "                break\n",
    "        # append to input\n",
    "        in_text += ' ' + out_word\n",
    "        result.append(out_word)\n",
    "    return ' '.join(result)"
   ]
  },
  {
   "cell_type": "code",
   "execution_count": 38,
   "id": "84404f3b",
   "metadata": {},
   "outputs": [
    {
     "name": "stdout",
     "output_type": "stream",
     "text": [
      "maester aemon keeping the wall to his back he slid toward the window and ripped down the curtain moonlight flooded the solar he glimpsed black hands buried in white fur swollen dark fingers tightening around his direwolfs throat ghost was twisting and page snapping legs flailing in the air but he\n",
      "\n",
      "[8]\n",
      "[4]\n",
      "[319]\n",
      "[186]\n",
      "[638]\n",
      "[1]\n",
      "[75]\n",
      "[13]\n",
      "[58]\n",
      "[4]\n",
      "[54]\n",
      "[5]\n",
      "[1]\n",
      "[295]\n",
      "[493]\n",
      "[6]\n",
      "[13]\n",
      "[58]\n",
      "[4]\n",
      "[54]\n",
      "[5]\n",
      "[1]\n",
      "[295]\n",
      "[493]\n",
      "[6]\n",
      "[13]\n",
      "[58]\n",
      "[4]\n",
      "[54]\n",
      "[5]\n",
      "[1]\n",
      "[295]\n",
      "[493]\n",
      "[6]\n",
      "[13]\n",
      "[58]\n",
      "[4]\n",
      "[54]\n",
      "[5]\n",
      "[1]\n",
      "[295]\n",
      "[493]\n",
      "[6]\n",
      "[13]\n",
      "[58]\n",
      "[4]\n",
      "[54]\n",
      "[5]\n",
      "[1]\n",
      "[295]\n"
     ]
    },
    {
     "data": {
      "text/plain": [
       "'was a few years ago the king had been a man of the seven kingdoms he had been a man of the seven kingdoms he had been a man of the seven kingdoms he had been a man of the seven kingdoms he had been a man of the seven'"
      ]
     },
     "execution_count": 38,
     "metadata": {},
     "output_type": "execute_result"
    }
   ],
   "source": [
    "seed_text = sequences_doc[np.random.randint(0,len(sequences_doc))]\n",
    "print(seed_text + '\\n')\n",
    "generate_seq(model, tokenizer, seq_length, seed_text, 50)"
   ]
  },
  {
   "cell_type": "code",
   "execution_count": 39,
   "id": "e0c5e180",
   "metadata": {},
   "outputs": [
    {
     "name": "stdout",
     "output_type": "stream",
     "text": [
      "guards it was to him that bronn turned with a cursory salute they await your command lady lysa said to her lord son fight the boy screamed his arms trembling as they clutched at his chair ser vardis swiveled bringing up his heavy shield bronn turned to face him their swords\n",
      "\n",
      "[8]\n",
      "[4]\n",
      "[319]\n",
      "[186]\n",
      "[638]\n",
      "[1]\n",
      "[75]\n",
      "[13]\n",
      "[58]\n",
      "[4]\n",
      "[54]\n",
      "[5]\n",
      "[1]\n",
      "[295]\n",
      "[493]\n",
      "[6]\n",
      "[13]\n",
      "[58]\n",
      "[4]\n",
      "[54]\n",
      "[5]\n",
      "[1]\n",
      "[295]\n",
      "[493]\n",
      "[6]\n",
      "[13]\n",
      "[58]\n",
      "[4]\n",
      "[54]\n",
      "[5]\n",
      "[1]\n",
      "[295]\n",
      "[493]\n",
      "[6]\n",
      "[13]\n",
      "[58]\n",
      "[4]\n",
      "[54]\n",
      "[5]\n",
      "[1]\n",
      "[295]\n",
      "[493]\n",
      "[6]\n",
      "[13]\n",
      "[58]\n",
      "[4]\n",
      "[54]\n",
      "[5]\n",
      "[1]\n",
      "[295]\n"
     ]
    },
    {
     "data": {
      "text/plain": [
       "'was a few years ago the king had been a man of the seven kin'"
      ]
     },
     "execution_count": 39,
     "metadata": {},
     "output_type": "execute_result"
    }
   ],
   "source": [
    "seed_text = sequences_doc[np.random.randint(0,len(sequences_doc))]\n",
    "print(seed_text + '\\n')\n",
    "generate_seq(model, tokenizer, seq_length, seed_text, 50)[:60]"
   ]
  },
  {
   "cell_type": "code",
   "execution_count": 41,
   "id": "760de926",
   "metadata": {},
   "outputs": [],
   "source": [
    "# pd.read_csv(\"twitter_parsed_dataset.csv\")[\"Text\"][np.random.randint(0, len(pd.read_csv(\"twitter_parsed_dataset.csv\")))]"
   ]
  },
  {
   "cell_type": "code",
   "execution_count": 40,
   "id": "210be01f",
   "metadata": {
    "scrolled": true
   },
   "outputs": [
    {
     "name": "stdout",
     "output_type": "stream",
     "text": [
      "holdfasts all across the realm men lift secret toasts to your health while women sew dragon banners and hide them against the day of your return from across the water he gave a massive shrug or so my agents tell me dany had no agents no way of knowing what anyone\n",
      "\n",
      "[27]\n",
      "[4]\n",
      "[54]\n",
      "[5]\n",
      "[1]\n",
      "[295]\n",
      "[493]\n",
      "[6]\n",
      "[20]\n",
      "[1]\n",
      "[75]\n",
      "[13]\n",
      "[58]\n",
      "[4]\n",
      "[54]\n",
      "[5]\n",
      "[1]\n",
      "[295]\n",
      "[493]\n",
      "[6]\n",
      "[20]\n",
      "[1]\n",
      "[75]\n",
      "[13]\n",
      "[58]\n",
      "[4]\n",
      "[54]\n",
      "[5]\n",
      "[1]\n",
      "[295]\n",
      "[493]\n",
      "[6]\n",
      "[13]\n",
      "[58]\n",
      "[4]\n",
      "[54]\n",
      "[5]\n",
      "[1]\n",
      "[295]\n",
      "[493]\n",
      "[6]\n",
      "[13]\n",
      "[58]\n",
      "[4]\n",
      "[54]\n",
      "[5]\n",
      "[1]\n",
      "[295]\n",
      "[493]\n",
      "[6]\n"
     ]
    },
    {
     "data": {
      "text/plain": [
       "'is a man of the seven kingdoms he said the king had been a m'"
      ]
     },
     "execution_count": 40,
     "metadata": {},
     "output_type": "execute_result"
    }
   ],
   "source": [
    "seed_text = sequences_doc[np.random.randint(0,len(sequences_doc))]\n",
    "print(seed_text + '\\n')\n",
    "generate_seq(model, tokenizer, seq_length, seed_text, 50)[:60]"
   ]
  },
  {
   "cell_type": "markdown",
   "id": "752c35b3",
   "metadata": {},
   "source": [
    "https://colab.research.google.com/drive/1VLG8e7YSEwypxU-noRNhsv5dW4NfTGce\n",
    "\n",
    "https://colab.research.google.com/github/demmojo/colabrnn/blob/master/colabRNN.ipynb#scrollTo=1rQ4lFinceov\n",
    "\n",
    "https://colab.research.google.com/github/huggingface/blog/blob/master/notebooks/02_how_to_generate.ipynb#scrollTo=ue2kOQhXTAMU"
   ]
  }
 ],
 "metadata": {
  "kernelspec": {
   "display_name": "Python 3 (ipykernel)",
   "language": "python",
   "name": "python3"
  },
  "language_info": {
   "codemirror_mode": {
    "name": "ipython",
    "version": 3
   },
   "file_extension": ".py",
   "mimetype": "text/x-python",
   "name": "python",
   "nbconvert_exporter": "python",
   "pygments_lexer": "ipython3",
   "version": "3.10.9"
  }
 },
 "nbformat": 4,
 "nbformat_minor": 5
}
